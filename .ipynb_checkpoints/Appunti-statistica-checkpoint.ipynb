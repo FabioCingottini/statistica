{
 "cells": [
  {
   "cell_type": "markdown",
   "metadata": {},
   "source": [
    "### Media ponderata\n",
    "\n",
    "$=\\frac{\\sum_{i=1}^{n}x_{i}\\cdot p_{i}}{\\sum_{i=0}^{n} p_{i}}$"
   ]
  },
  {
   "cell_type": "markdown",
   "metadata": {},
   "source": [
    "### Deviazione standard aka scarto quadratico medio\n",
    "\n",
    "$A=\\{3,6,4,5,3\\}$  \n",
    "\n",
    "Sia $n$ la popolosità totale.   \n",
    "Sia $\\mu_{A}$ la media di $A$.   \n",
    " \n",
    "\n",
    "La deviazione standard di $A$ è data da;\n",
    "\n",
    "$\\sigma_{A}=\\sqrt{\\frac{\\sum_{i=1}^{n}(A_{i}-\\mu_{a})^{2}}{n}}=\\sqrt{\\frac{(A_{1}-\\mu_{A})^2+(A_{...}-\\mu_{A})^2+(A_{n}-\\mu_{A})^2}{n}}$  \n",
    "\n",
    "##### Svolgimento\n",
    "\n",
    "$\\mu_{A}=\\frac{3+6+4+5+3}{5}=\\frac{21}{5}=4.2$\n",
    "\n",
    "$\\sigma_{A}=\\sqrt{\\frac{(3-4.2)^2+(6-4.2)^2+(4-4.2)^2+(5-4.2)^2+(3-4.2)^2}{5}}=\\sqrt{\\frac{6.8}{5}}=\\sqrt{1.36}=1.166$"
   ]
  },
  {
   "cell_type": "code",
   "execution_count": 28,
   "metadata": {},
   "outputs": [
    {
     "data": {
      "text/plain": [
       "1.16619037896906"
      ]
     },
     "execution_count": 28,
     "metadata": {},
     "output_type": "execute_result"
    }
   ],
   "source": [
    "#creazione di una funzione sigma di calcolo dello scarto quadratico medio in python3\n",
    "def sigma(A):\n",
    "    n = len(A)\n",
    "    mi_a = sum(A) / n\n",
    "    numerator = 0\n",
    "    for a_i in A:\n",
    "        numerator = numerator + ((a_i - mi_a) ** 2)\n",
    "    result = (numerator / n) ** (1/2)\n",
    "    return result\n",
    "\n",
    "A = [3,6,4,5,3]\n",
    "\n",
    "sigma(A)"
   ]
  },
  {
   "cell_type": "markdown",
   "metadata": {},
   "source": [
    "### Varianza\n",
    "\n",
    "$A=\\{3,6,4,5,3\\}$  \n",
    "\n",
    "Sia $n$ la popolosità totale.   \n",
    "Sia $\\mu_{A}$ la media di $A$.   \n",
    " \n",
    "\n",
    "La varianza di $A$ è data da;\n",
    "\n",
    "$\\sigma_{A}^2=\\frac{\\sum_{i=1}^{n}(A_{i}-\\mu_{a})^{2}}{n}=\\frac{(A_{1}-\\mu_{A})^2+(A_{...}-\\mu_{A})^2+(A_{n}-\\mu_{A})^2}{n}$  \n",
    "##### Svolgimento\n",
    "\n",
    "$\\mu_{A}=\\frac{3+6+4+5+3}{5}=\\frac{21}{5}=4.2$\n",
    "\n",
    "$\\sigma_{A}^2=\\frac{(3-4.2)^2+(6-4.2)^2+(4-4.2)^2+(5-4.2)^2+(3-4.2)^2}{5}=\\frac{6.8}{5}=1.36$\n"
   ]
  },
  {
   "cell_type": "code",
   "execution_count": 29,
   "metadata": {
    "scrolled": true
   },
   "outputs": [
    {
     "data": {
      "text/plain": [
       "1.3599999999999999"
      ]
     },
     "execution_count": 29,
     "metadata": {},
     "output_type": "execute_result"
    }
   ],
   "source": [
    "#creazione di una funzione sigma_square di calcolo della varianza in python3\n",
    "\n",
    "def sigma_square(A):\n",
    "    n = len(A)\n",
    "    mi_a = sum(A) / n\n",
    "    numerator = 0\n",
    "    for a_i in A:\n",
    "        numerator = numerator + ((a_i - mi_a) ** 2)\n",
    "    result = numerator / n\n",
    "    return result\n",
    "\n",
    "A = [3,6,4,5,3]\n",
    "\n",
    "sigma_square(A)"
   ]
  },
  {
   "cell_type": "markdown",
   "metadata": {},
   "source": [
    " ### Covarianza\n",
    "\n",
    "| Settimana | Lung omero | Lung femore | \n",
    "| --- | --- | --- | \n",
    "| 12 | 9 | 8 | \n",
    "| 16 | 20 | 20 | \n",
    "| 20 | 30 | 31 | \n",
    "| 24 | 40 | 42 | \n",
    "| 28 | 48 | 52 | \n",
    "| 32 | 55 | 61 | \n",
    "| 36 | 61 | 68 | \n",
    "| 40 | 66 | 74 | \n",
    "\n",
    "Sia $A$ la lunghezza dell' omero.  \n",
    "Sia $B$ la lunghezza del femore.  \n",
    "Sia $n$ la popolosità totale.  \n",
    "Sia $\\mu_{A}$ la media di $A$.  \n",
    "Sia $\\mu_{B}$ la media di $B$.  \n",
    "La covarianza di $A$,$B$ è data da:  \n",
    "\n",
    "$cov(A,B)=\\frac{\\sum_{i=1}^{n}(A_{i}-\\mu_{A})(B_{i}-\\mu_{B})}{n}=\\frac{(A_{1}-\\mu_{A})(B_{1}-\\mu_{B})+(A_{...}-\\mu_{A})(B_{...}-\\mu_{B})+(A_{n}-\\mu_{A})(B_{n}-\\mu_{B})}{n}$  \n",
    "\n",
    "##### Svolgimento\n",
    "\n",
    "$\\mu_{A}=\\frac{9+20+30+40+48+55+61+66}{8}=\\frac{329}{8}=41.125$  \n",
    "\n",
    "$\\mu_{B}=\\frac{8+20+31+42+52+61+68+74}{8}=\\frac{356}{8}=44.5$ \n",
    "\n",
    "$cov(A,B)=\\frac{(9-41.125)(8-44.5)+(20-41.125)(20-44.5)+(30-41.125)(31-44.5)+(40-41.125)(42-44.5)+(48-41.125)(52-44.5)+(55-41.125)(61-44.5)+(61-41.125)(68-44.5)+(66-41.125)(74-44.5)}{8}=\\frac{3324.5}{8}=415.562$"
   ]
  },
  {
   "cell_type": "code",
   "execution_count": 30,
   "metadata": {},
   "outputs": [
    {
     "data": {
      "text/plain": [
       "415.5625"
      ]
     },
     "execution_count": 30,
     "metadata": {},
     "output_type": "execute_result"
    }
   ],
   "source": [
    "#creazione di una funzione cov di calcolo della covarianza in python3\n",
    "\n",
    "def cov(A, B):\n",
    "    n = len(A)\n",
    "    mi_a = sum(A) / n\n",
    "    mi_b = sum(B) / n\n",
    "    numerator = 0\n",
    "    for a_i, b_i in zip(A, B):\n",
    "        numerator = numerator + (a_i - mi_a) * (b_i - mi_b)\n",
    "    result = numerator / n\n",
    "    return result\n",
    "\n",
    "A = [9, 20, 30, 40, 48, 55, 61, 66]\n",
    "B = [8, 20, 31, 42, 52, 61, 68, 74]\n",
    "\n",
    "cov(A, B)"
   ]
  },
  {
   "cell_type": "markdown",
   "metadata": {},
   "source": [
    "#### Indice di correlazione di Pearson aka coefficiente di correlazione lineare di Pearson\n",
    "\n",
    "| Settimana | Lung omero | Lung femore | \n",
    "| --- | --- | --- | \n",
    "| 12 | 9 | 8 | \n",
    "| 16 | 20 | 20 | \n",
    "| 20 | 30 | 31 | \n",
    "| 24 | 40 | 42 | \n",
    "| 28 | 48 | 52 | \n",
    "| 32 | 55 | 61 | \n",
    "| 36 | 61 | 68 | \n",
    "| 40 | 66 | 74 | \n",
    "\n",
    "Sia $A$ la lunghezza dell' omero.  \n",
    "Sia $B$ la lunghezza del femore.  \n",
    "Sia $cov(A,B)$ la varianza di $A,B$.  \n",
    "Sia $\\sigma_{A}$ la deviazione standard di $A$.    \n",
    "Sia $\\sigma_{B}$ la deviazione standard di $B$.    \n",
    "L' indice di correlazione di Pearson tra $A$ e $B$ è dato da:\n",
    "\n",
    "$\\rho_{AB}=\\frac{cov(A,B)}{\\sigma_{A}\\sigma_{B}}$\n",
    "\n",
    "\n",
    "##### Svolgimento\n",
    "\n",
    "$\\mu_{A}=\\frac{9+20+30+40+48+55+61+66}{8}=\\frac{329}{8}=41.125$  \n",
    "\n",
    "$\\mu_{B}=\\frac{8+20+31+42+52+61+68+74}{8}=\\frac{356}{8}=44.5$ \n",
    "\n",
    "$cov(A,B)=\\frac{(9-41.125)(8-44.5)+(20-41.125)(20-44.5)+(30-41.125)(31-44.5)+(40-41.125)(42-44.5)+(48-41.125)(52-44.5)+(55-41.125)(61-44.5)+(61-41.125)(68-44.5)+(66-41.125)(74-44.5)}{8}=\\frac{3324.5}{8}=415.5625$\n",
    "\n",
    "$\\sigma_{A}=\\sqrt{\\frac{(9-41.125)^2+(20-41.125)^2+(30-41.125)^2+(40-41.125)^2+(48-41.125)^2+(55-41.125)^2+(61-41.125)^2+(66-41.125)^2}{8}}=\\sqrt{\\frac{2856.875}{8}}=\\sqrt{375.109}=18.897$  \n",
    "\n",
    "$\\sigma_{B}=\\sqrt{\\frac{(8-44.5)^2+(20-44.5)^2+(31-44.5)^2+(42-44.5)^2+(52-44.5)^2+(61-44.5)^2+(68-44.5)^2+(74-44.5)^2}{8}}=\\sqrt{\\frac{3872}{8}}=\\sqrt{484}=22$\n",
    "\n",
    "$\\rho_{AB}=\\frac{415.562}{18.897\\cdot22}=\\frac{415.562}{415.734}=0.999$\n"
   ]
  },
  {
   "cell_type": "code",
   "execution_count": 31,
   "metadata": {},
   "outputs": [
    {
     "data": {
      "text/plain": [
       "0.99956960974574"
      ]
     },
     "execution_count": 31,
     "metadata": {},
     "output_type": "execute_result"
    }
   ],
   "source": [
    "\"\"\"\n",
    "creazione di una funzione pearson_correlation_index di calcolo \n",
    "dell' indice di correlazione di Pearson in python3\n",
    "\n",
    "!important verranno riutilizzate le funzioni precedentemente definite\n",
    "\"\"\"\n",
    "\n",
    "def pearson_correlation_index(A, B):\n",
    "    cov_ab = cov(A, B)\n",
    "    sigma_a = sigma(A)\n",
    "    sigma_b = sigma(B)\n",
    "    return cov_ab / (sigma_a * sigma_b)\n",
    "    \n",
    "\n",
    "A = [9, 20, 30, 40, 48, 55, 61, 66]\n",
    "B = [8, 20, 31, 42, 52, 61, 68, 74]\n",
    "\n",
    "pearson_correlation_index(A, B)"
   ]
  },
  {
   "cell_type": "markdown",
   "metadata": {},
   "source": [
    "### Chi quadro  e indice V di Cramer\n",
    "\n",
    "|  | Maschi | Femmine |\n",
    "| --- | --- | --- | \n",
    "| Ripetenti | 12 | 4 |\n",
    "| Non ripetenti | 7 | 16 |\n",
    "\n",
    "Sia $t$ una generica cella.   \n",
    "Sia $n$ la popolazione totale.  \n",
    "Sia $r$ il numero di righe.  \n",
    "Sia $c$ il numero di colonne.  \n",
    "Sia $E[t_{rc}]$ il valore atteso della cella $t$ alla $r$esima riga e alla $c$esima colonna.  \n",
    "Sia $\\chi^2$ il Chi quadro.  \n",
    "Sia $V$ l'indice di Cramer.\n",
    "\n",
    "$E[t_{rc}]=\\frac{(\\sum_{i=0}^{r} t_{ic} )\\cdot(\\sum_{j=0}^{c} t_{rj} )}{n}$  \n",
    "\n",
    "$\\chi^2=\\sum_{i=1}^{r}\\sum_{j=1}^{c}\\frac{(t_{ij} - E[t_{ij}])^2}{E[t_{ij}]}$  \n",
    "\n",
    "$V=\\sqrt{\\frac{\\frac{\\chi^2}{n}}{min(r,c)-1}}$\n",
    "\n",
    "##### Svolgimento\n",
    "  \n",
    "Tabella delle frequenze attese:  \n",
    "\n",
    "\n",
    "|  | Maschi | Femmine | \n",
    "| --- | --- | --- | \n",
    "| Ripetenti | $\\frac{16\\cdot19}{39}$ | $\\frac{16\\cdot20}{39}$ |\n",
    "| Non ripetenti | $\\frac{23\\cdot19}{39}$ | $\\frac{23\\cdot20}{39}$ |\n",
    "\n",
    "|  |Maschi | Femmine | \n",
    "| --- | --- | --- | \n",
    "| Ripetenti | 7.794 | 8.205 |\n",
    "| Non ripetenti | 11.205 | 11.794 |\n",
    "\n",
    "$\\chi^2 = \\frac{(12-7.794)^2}{7.794} + \\frac{(4-8.205)^2}{8.205} + \\frac{(7-11.205)^2}{11.205} + \\frac{(16-11.794)^2}{11.794}$  \n",
    "$\\chi^2 = \\frac{17.690}{7.794} + \\frac{17.682}{8.205} + \\frac{17.682}{11.205} + \\frac{17.690}{11.794}$  \n",
    "$\\chi^2 = 2.269 + 2.155 + 1.578 + 1.449$  \n",
    "$\\chi^2 = 7.451$  \n",
    "\n",
    "$V=\\sqrt{\\frac{\\frac{7.451}{39}}{1}} = \\sqrt{\\frac{7.451}{39}} = 0.09$"
   ]
  },
  {
   "cell_type": "code",
   "execution_count": 103,
   "metadata": {},
   "outputs": [
    {
     "name": "stdout",
     "output_type": "stream",
     "text": [
      "7.5010297482837505 0.09616704805491988\n"
     ]
    }
   ],
   "source": [
    "\"\"\"\n",
    "creazione di una funzione chi_square di calcolo del chi quadro in python3\n",
    "creazione di una funzione cramer_v_index di calcolo dell'indice di V cramer\n",
    "\"\"\"\n",
    "\n",
    "from functools import reduce\n",
    "import numpy as np\n",
    "\n",
    "def chi_square(A, e_A=None, n=None):\n",
    "    rows_tots = list(map(lambda row: np.sum(row), A))\n",
    "    cols_tots = list(map(lambda col: np.sum(col), A.T))\n",
    "    if n is None:\n",
    "        n = np.sum(A)\n",
    "    e_A =  np.zeros_like(A, dtype=float)\n",
    "    for i_cell, x in np.ndenumerate(e_A):\n",
    "        r_tot = np.sum(A[i_cell[0]])\n",
    "        c_tot = np.sum(A[:,i_cell[1]])\n",
    "        e_A[i_cell] = r_tot * c_tot / n    \n",
    "    res = 0\n",
    "    for i_cell, x in np.ndenumerate(A):        \n",
    "        e_x = e_A[i_cell]\n",
    "        res += ((x - e_x) ** 2) / e_x\n",
    "    return res\n",
    "\n",
    "def cramer_v_index(chi_square, n, shape):\n",
    "    return ((chi_square/n)/(min(shape) - 1)) ** 1/2\n",
    "    \n",
    "A = np.array([[12, 4], [7, 16]], dtype=float)\n",
    "n = np.sum(A)\n",
    "a_chi_square = chi_square(A, n=n)\n",
    "a_v_cramer_index = cramer_v_index(a_chi_square, n=n, shape=A.shape)\n",
    "print(a_chi_square, a_v_cramer_index)"
   ]
  },
  {
   "cell_type": "markdown",
   "metadata": {},
   "source": [
    "\n"
   ]
  }
 ],
 "metadata": {
  "kernelspec": {
   "display_name": "Python 3",
   "language": "python",
   "name": "python3"
  },
  "language_info": {
   "codemirror_mode": {
    "name": "ipython",
    "version": 3
   },
   "file_extension": ".py",
   "mimetype": "text/x-python",
   "name": "python",
   "nbconvert_exporter": "python",
   "pygments_lexer": "ipython3",
   "version": "3.7.4"
  }
 },
 "nbformat": 4,
 "nbformat_minor": 2
}
